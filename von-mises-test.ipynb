{
 "cells": [
  {
   "cell_type": "code",
   "execution_count": 1,
   "metadata": {},
   "outputs": [],
   "source": [
    "def data_file(algorithm, extraction, similarity, components):\n",
    "    return 'data/classification/class-' + algorithm + '-' + \\\n",
    "                extraction + '-' + similarity + '-' + components + '.json'"
   ]
  },
  {
   "cell_type": "code",
   "execution_count": 2,
   "metadata": {},
   "outputs": [],
   "source": [
    "import json\n",
    "\n",
    "def get_sample(file_name):\n",
    "    sample = []\n",
    "    with open(file_name, 'r') as f:  \n",
    "        for line in f:\n",
    "            line_clean = line.rstrip()\n",
    "            if line_clean:\n",
    "                sample.append(json.loads(line_clean)['test_median'])\n",
    "    if len(sample) < 10:\n",
    "        print(len(sample))\n",
    "    return sample"
   ]
  },
  {
   "cell_type": "code",
   "execution_count": 3,
   "metadata": {},
   "outputs": [
    {
     "data": {
      "text/plain": [
       "[0.8200692041522492,\n",
       " 0.8166089965397924,\n",
       " 0.8200692041522492,\n",
       " 0.8131487889273357,\n",
       " 0.8200692041522492,\n",
       " 0.8373702422145328,\n",
       " 0.8304498269896193,\n",
       " 0.8131487889273357,\n",
       " 0.8131487889273357,\n",
       " 0.8166089965397924]"
      ]
     },
     "execution_count": 3,
     "metadata": {},
     "output_type": "execute_result"
    }
   ],
   "source": [
    "algorithm = 'LDA'\n",
    "extraction = 'pca'\n",
    "similarity = 'jaccard'\n",
    "components = '3'\n",
    "\n",
    "get_sample(data_file(algorithm, extraction, similarity, components))"
   ]
  },
  {
   "cell_type": "code",
   "execution_count": 4,
   "metadata": {},
   "outputs": [
    {
     "name": "stderr",
     "output_type": "stream",
     "text": [
      "/home/malchiodi/anaconda3/lib/python3.7/site-packages/skgof/ecdfgof.py:45: FutureWarning: arrays to stack must be passed as a \"sequence\" type such as list or tuple. Support for non-sequence iterables such as generators is deprecated as of NumPy 1.16 and will raise an error in the future.\n",
      "  from .cvmdist import cvm_unif\n"
     ]
    }
   ],
   "source": [
    "import skgof\n",
    "from statsmodels.distributions.empirical_distribution import ECDF\n",
    "from scipy.stats import rv_continuous\n",
    "\n",
    "class EmpiricalDistribution(rv_continuous):\n",
    "    def __init__(self, data):\n",
    "        self.ecdf = ECDF(data)\n",
    "        \n",
    "    def cdf(self, x):\n",
    "        return self.ecdf(x)"
   ]
  },
  {
   "cell_type": "code",
   "execution_count": 5,
   "metadata": {},
   "outputs": [],
   "source": [
    "def von_mises_test(sample_1, sample_2):\n",
    "    return skgof.cvm_test(sample_1, EmpiricalDistribution(sample_2)).pvalue"
   ]
  },
  {
   "cell_type": "markdown",
   "metadata": {},
   "source": [
    "check that group 1 algorithms (PCA + Jaccard + all components + tutti algorithms except DT) are indistinguishable"
   ]
  },
  {
   "cell_type": "code",
   "execution_count": 6,
   "metadata": {},
   "outputs": [],
   "source": [
    "components = ['2', '3', '5', '10', '30']"
   ]
  },
  {
   "cell_type": "code",
   "execution_count": 7,
   "metadata": {},
   "outputs": [
    {
     "data": {
      "text/plain": [
       "[('2', '3', 0.10797455696350311),\n",
       " ('2', '5', 0.01659957900426101),\n",
       " ('2', '10', 0.039283571682110385),\n",
       " ('2', '30', 0.3293211390888068),\n",
       " ('3', '5', 0.00013900471814665138),\n",
       " ('3', '10', 0.007011937396518175),\n",
       " ('3', '30', 0.1405866088767651),\n",
       " ('5', '10', 0.32932113908880656),\n",
       " ('5', '30', 0.0025735918355593856),\n",
       " ('10', '30', 0.005470878899666465)]"
      ]
     },
     "execution_count": 7,
     "metadata": {},
     "output_type": "execute_result"
    }
   ],
   "source": [
    "import itertools as it\n",
    "\n",
    "[(c1, c2, von_mises_test(get_sample(data_file('LDA', 'pca', 'jaccard', c1)),\n",
    "                get_sample(data_file('LDA', 'pca', 'jaccard', c2))))\n",
    " for c1, c2 in it.combinations(components, 2)]"
   ]
  },
  {
   "cell_type": "code",
   "execution_count": 8,
   "metadata": {},
   "outputs": [],
   "source": [
    "files_g1 = [data_file(a, 'pca', 'jaccard', c) for a in ['LDA', 'Random_forest', 'Naive_Bayes', 'MLP']\n",
    "                                           for c in ['2', '3', '5', '10', '30']]"
   ]
  },
  {
   "cell_type": "code",
   "execution_count": 9,
   "metadata": {},
   "outputs": [],
   "source": [
    "import pandas as pd\n",
    "\n",
    "pvals = pd.DataFrame([(f1[26:-5], f2[26:-5], von_mises_test(get_sample(f1), get_sample(f2)))\n",
    "                      for f1, f2 in it.combinations(files_g1, 2)],\n",
    "                    columns=['sample_1', 'sample_2', 'p_value'])"
   ]
  },
  {
   "cell_type": "code",
   "execution_count": 10,
   "metadata": {},
   "outputs": [
    {
     "data": {
      "text/plain": [
       "0.19473684210526315"
      ]
     },
     "execution_count": 10,
     "metadata": {},
     "output_type": "execute_result"
    }
   ],
   "source": [
    "len(pvals[pvals.p_value<0.01]) / len(pvals)"
   ]
  },
  {
   "cell_type": "code",
   "execution_count": 11,
   "metadata": {},
   "outputs": [
    {
     "data": {
      "text/plain": [
       "(37, 190)"
      ]
     },
     "execution_count": 11,
     "metadata": {},
     "output_type": "execute_result"
    }
   ],
   "source": [
    "(len(pvals[pvals.p_value<0.01]), len(pvals))"
   ]
  },
  {
   "cell_type": "code",
   "execution_count": 12,
   "metadata": {},
   "outputs": [
    {
     "data": {
      "text/html": [
       "<div>\n",
       "<style scoped>\n",
       "    .dataframe tbody tr th:only-of-type {\n",
       "        vertical-align: middle;\n",
       "    }\n",
       "\n",
       "    .dataframe tbody tr th {\n",
       "        vertical-align: top;\n",
       "    }\n",
       "\n",
       "    .dataframe thead th {\n",
       "        text-align: right;\n",
       "    }\n",
       "</style>\n",
       "<table border=\"1\" class=\"dataframe\">\n",
       "  <thead>\n",
       "    <tr style=\"text-align: right;\">\n",
       "      <th></th>\n",
       "      <th>sample_1</th>\n",
       "      <th>sample_2</th>\n",
       "      <th>p_value</th>\n",
       "    </tr>\n",
       "  </thead>\n",
       "  <tbody>\n",
       "    <tr>\n",
       "      <td>9</td>\n",
       "      <td>LDA-pca-jaccard-2</td>\n",
       "      <td>Naive_Bayes-pca-jaccard-2</td>\n",
       "      <td>0.007935</td>\n",
       "    </tr>\n",
       "    <tr>\n",
       "      <td>19</td>\n",
       "      <td>LDA-pca-jaccard-3</td>\n",
       "      <td>LDA-pca-jaccard-5</td>\n",
       "      <td>0.000139</td>\n",
       "    </tr>\n",
       "    <tr>\n",
       "      <td>20</td>\n",
       "      <td>LDA-pca-jaccard-3</td>\n",
       "      <td>LDA-pca-jaccard-10</td>\n",
       "      <td>0.007012</td>\n",
       "    </tr>\n",
       "    <tr>\n",
       "      <td>27</td>\n",
       "      <td>LDA-pca-jaccard-3</td>\n",
       "      <td>Naive_Bayes-pca-jaccard-2</td>\n",
       "      <td>0.000139</td>\n",
       "    </tr>\n",
       "    <tr>\n",
       "      <td>38</td>\n",
       "      <td>LDA-pca-jaccard-5</td>\n",
       "      <td>LDA-pca-jaccard-30</td>\n",
       "      <td>0.002574</td>\n",
       "    </tr>\n",
       "    <tr>\n",
       "      <td>41</td>\n",
       "      <td>LDA-pca-jaccard-5</td>\n",
       "      <td>Random_forest-pca-jaccard-5</td>\n",
       "      <td>0.002770</td>\n",
       "    </tr>\n",
       "    <tr>\n",
       "      <td>43</td>\n",
       "      <td>LDA-pca-jaccard-5</td>\n",
       "      <td>Random_forest-pca-jaccard-30</td>\n",
       "      <td>0.001935</td>\n",
       "    </tr>\n",
       "    <tr>\n",
       "      <td>46</td>\n",
       "      <td>LDA-pca-jaccard-5</td>\n",
       "      <td>Naive_Bayes-pca-jaccard-5</td>\n",
       "      <td>-0.000006</td>\n",
       "    </tr>\n",
       "    <tr>\n",
       "      <td>49</td>\n",
       "      <td>LDA-pca-jaccard-5</td>\n",
       "      <td>MLP-pca-jaccard-2</td>\n",
       "      <td>0.002265</td>\n",
       "    </tr>\n",
       "    <tr>\n",
       "      <td>51</td>\n",
       "      <td>LDA-pca-jaccard-5</td>\n",
       "      <td>MLP-pca-jaccard-5</td>\n",
       "      <td>0.000398</td>\n",
       "    </tr>\n",
       "    <tr>\n",
       "      <td>52</td>\n",
       "      <td>LDA-pca-jaccard-5</td>\n",
       "      <td>MLP-pca-jaccard-10</td>\n",
       "      <td>-0.000005</td>\n",
       "    </tr>\n",
       "    <tr>\n",
       "      <td>54</td>\n",
       "      <td>LDA-pca-jaccard-10</td>\n",
       "      <td>LDA-pca-jaccard-30</td>\n",
       "      <td>0.005471</td>\n",
       "    </tr>\n",
       "    <tr>\n",
       "      <td>57</td>\n",
       "      <td>LDA-pca-jaccard-10</td>\n",
       "      <td>Random_forest-pca-jaccard-5</td>\n",
       "      <td>0.007782</td>\n",
       "    </tr>\n",
       "    <tr>\n",
       "      <td>59</td>\n",
       "      <td>LDA-pca-jaccard-10</td>\n",
       "      <td>Random_forest-pca-jaccard-30</td>\n",
       "      <td>0.002656</td>\n",
       "    </tr>\n",
       "    <tr>\n",
       "      <td>62</td>\n",
       "      <td>LDA-pca-jaccard-10</td>\n",
       "      <td>Naive_Bayes-pca-jaccard-5</td>\n",
       "      <td>0.000527</td>\n",
       "    </tr>\n",
       "    <tr>\n",
       "      <td>67</td>\n",
       "      <td>LDA-pca-jaccard-10</td>\n",
       "      <td>MLP-pca-jaccard-5</td>\n",
       "      <td>0.008977</td>\n",
       "    </tr>\n",
       "    <tr>\n",
       "      <td>68</td>\n",
       "      <td>LDA-pca-jaccard-10</td>\n",
       "      <td>MLP-pca-jaccard-10</td>\n",
       "      <td>0.000139</td>\n",
       "    </tr>\n",
       "    <tr>\n",
       "      <td>77</td>\n",
       "      <td>LDA-pca-jaccard-30</td>\n",
       "      <td>Naive_Bayes-pca-jaccard-5</td>\n",
       "      <td>0.008977</td>\n",
       "    </tr>\n",
       "    <tr>\n",
       "      <td>88</td>\n",
       "      <td>Random_forest-pca-jaccard-2</td>\n",
       "      <td>Random_forest-pca-jaccard-30</td>\n",
       "      <td>0.004739</td>\n",
       "    </tr>\n",
       "    <tr>\n",
       "      <td>91</td>\n",
       "      <td>Random_forest-pca-jaccard-2</td>\n",
       "      <td>Naive_Bayes-pca-jaccard-5</td>\n",
       "      <td>0.005509</td>\n",
       "    </tr>\n",
       "    <tr>\n",
       "      <td>97</td>\n",
       "      <td>Random_forest-pca-jaccard-2</td>\n",
       "      <td>MLP-pca-jaccard-10</td>\n",
       "      <td>0.009932</td>\n",
       "    </tr>\n",
       "    <tr>\n",
       "      <td>101</td>\n",
       "      <td>Random_forest-pca-jaccard-3</td>\n",
       "      <td>Random_forest-pca-jaccard-30</td>\n",
       "      <td>0.000517</td>\n",
       "    </tr>\n",
       "    <tr>\n",
       "      <td>104</td>\n",
       "      <td>Random_forest-pca-jaccard-3</td>\n",
       "      <td>Naive_Bayes-pca-jaccard-5</td>\n",
       "      <td>0.002122</td>\n",
       "    </tr>\n",
       "    <tr>\n",
       "      <td>110</td>\n",
       "      <td>Random_forest-pca-jaccard-3</td>\n",
       "      <td>MLP-pca-jaccard-10</td>\n",
       "      <td>0.006404</td>\n",
       "    </tr>\n",
       "    <tr>\n",
       "      <td>114</td>\n",
       "      <td>Random_forest-pca-jaccard-5</td>\n",
       "      <td>Naive_Bayes-pca-jaccard-2</td>\n",
       "      <td>0.000235</td>\n",
       "    </tr>\n",
       "    <tr>\n",
       "      <td>124</td>\n",
       "      <td>Random_forest-pca-jaccard-10</td>\n",
       "      <td>Random_forest-pca-jaccard-30</td>\n",
       "      <td>0.002310</td>\n",
       "    </tr>\n",
       "    <tr>\n",
       "      <td>127</td>\n",
       "      <td>Random_forest-pca-jaccard-10</td>\n",
       "      <td>Naive_Bayes-pca-jaccard-5</td>\n",
       "      <td>0.007526</td>\n",
       "    </tr>\n",
       "    <tr>\n",
       "      <td>133</td>\n",
       "      <td>Random_forest-pca-jaccard-10</td>\n",
       "      <td>MLP-pca-jaccard-10</td>\n",
       "      <td>0.006404</td>\n",
       "    </tr>\n",
       "    <tr>\n",
       "      <td>135</td>\n",
       "      <td>Random_forest-pca-jaccard-30</td>\n",
       "      <td>Naive_Bayes-pca-jaccard-2</td>\n",
       "      <td>0.000047</td>\n",
       "    </tr>\n",
       "    <tr>\n",
       "      <td>145</td>\n",
       "      <td>Naive_Bayes-pca-jaccard-2</td>\n",
       "      <td>Naive_Bayes-pca-jaccard-3</td>\n",
       "      <td>0.004263</td>\n",
       "    </tr>\n",
       "    <tr>\n",
       "      <td>146</td>\n",
       "      <td>Naive_Bayes-pca-jaccard-2</td>\n",
       "      <td>Naive_Bayes-pca-jaccard-5</td>\n",
       "      <td>-0.000005</td>\n",
       "    </tr>\n",
       "    <tr>\n",
       "      <td>149</td>\n",
       "      <td>Naive_Bayes-pca-jaccard-2</td>\n",
       "      <td>MLP-pca-jaccard-2</td>\n",
       "      <td>0.000794</td>\n",
       "    </tr>\n",
       "    <tr>\n",
       "      <td>151</td>\n",
       "      <td>Naive_Bayes-pca-jaccard-2</td>\n",
       "      <td>MLP-pca-jaccard-5</td>\n",
       "      <td>0.000398</td>\n",
       "    </tr>\n",
       "    <tr>\n",
       "      <td>152</td>\n",
       "      <td>Naive_Bayes-pca-jaccard-2</td>\n",
       "      <td>MLP-pca-jaccard-10</td>\n",
       "      <td>-0.000003</td>\n",
       "    </tr>\n",
       "    <tr>\n",
       "      <td>154</td>\n",
       "      <td>Naive_Bayes-pca-jaccard-3</td>\n",
       "      <td>Naive_Bayes-pca-jaccard-5</td>\n",
       "      <td>0.007012</td>\n",
       "    </tr>\n",
       "    <tr>\n",
       "      <td>178</td>\n",
       "      <td>Naive_Bayes-pca-jaccard-30</td>\n",
       "      <td>MLP-pca-jaccard-10</td>\n",
       "      <td>0.001038</td>\n",
       "    </tr>\n",
       "    <tr>\n",
       "      <td>187</td>\n",
       "      <td>MLP-pca-jaccard-5</td>\n",
       "      <td>MLP-pca-jaccard-10</td>\n",
       "      <td>0.000909</td>\n",
       "    </tr>\n",
       "  </tbody>\n",
       "</table>\n",
       "</div>"
      ],
      "text/plain": [
       "                         sample_1                      sample_2   p_value\n",
       "9               LDA-pca-jaccard-2     Naive_Bayes-pca-jaccard-2  0.007935\n",
       "19              LDA-pca-jaccard-3             LDA-pca-jaccard-5  0.000139\n",
       "20              LDA-pca-jaccard-3            LDA-pca-jaccard-10  0.007012\n",
       "27              LDA-pca-jaccard-3     Naive_Bayes-pca-jaccard-2  0.000139\n",
       "38              LDA-pca-jaccard-5            LDA-pca-jaccard-30  0.002574\n",
       "41              LDA-pca-jaccard-5   Random_forest-pca-jaccard-5  0.002770\n",
       "43              LDA-pca-jaccard-5  Random_forest-pca-jaccard-30  0.001935\n",
       "46              LDA-pca-jaccard-5     Naive_Bayes-pca-jaccard-5 -0.000006\n",
       "49              LDA-pca-jaccard-5             MLP-pca-jaccard-2  0.002265\n",
       "51              LDA-pca-jaccard-5             MLP-pca-jaccard-5  0.000398\n",
       "52              LDA-pca-jaccard-5            MLP-pca-jaccard-10 -0.000005\n",
       "54             LDA-pca-jaccard-10            LDA-pca-jaccard-30  0.005471\n",
       "57             LDA-pca-jaccard-10   Random_forest-pca-jaccard-5  0.007782\n",
       "59             LDA-pca-jaccard-10  Random_forest-pca-jaccard-30  0.002656\n",
       "62             LDA-pca-jaccard-10     Naive_Bayes-pca-jaccard-5  0.000527\n",
       "67             LDA-pca-jaccard-10             MLP-pca-jaccard-5  0.008977\n",
       "68             LDA-pca-jaccard-10            MLP-pca-jaccard-10  0.000139\n",
       "77             LDA-pca-jaccard-30     Naive_Bayes-pca-jaccard-5  0.008977\n",
       "88    Random_forest-pca-jaccard-2  Random_forest-pca-jaccard-30  0.004739\n",
       "91    Random_forest-pca-jaccard-2     Naive_Bayes-pca-jaccard-5  0.005509\n",
       "97    Random_forest-pca-jaccard-2            MLP-pca-jaccard-10  0.009932\n",
       "101   Random_forest-pca-jaccard-3  Random_forest-pca-jaccard-30  0.000517\n",
       "104   Random_forest-pca-jaccard-3     Naive_Bayes-pca-jaccard-5  0.002122\n",
       "110   Random_forest-pca-jaccard-3            MLP-pca-jaccard-10  0.006404\n",
       "114   Random_forest-pca-jaccard-5     Naive_Bayes-pca-jaccard-2  0.000235\n",
       "124  Random_forest-pca-jaccard-10  Random_forest-pca-jaccard-30  0.002310\n",
       "127  Random_forest-pca-jaccard-10     Naive_Bayes-pca-jaccard-5  0.007526\n",
       "133  Random_forest-pca-jaccard-10            MLP-pca-jaccard-10  0.006404\n",
       "135  Random_forest-pca-jaccard-30     Naive_Bayes-pca-jaccard-2  0.000047\n",
       "145     Naive_Bayes-pca-jaccard-2     Naive_Bayes-pca-jaccard-3  0.004263\n",
       "146     Naive_Bayes-pca-jaccard-2     Naive_Bayes-pca-jaccard-5 -0.000005\n",
       "149     Naive_Bayes-pca-jaccard-2             MLP-pca-jaccard-2  0.000794\n",
       "151     Naive_Bayes-pca-jaccard-2             MLP-pca-jaccard-5  0.000398\n",
       "152     Naive_Bayes-pca-jaccard-2            MLP-pca-jaccard-10 -0.000003\n",
       "154     Naive_Bayes-pca-jaccard-3     Naive_Bayes-pca-jaccard-5  0.007012\n",
       "178    Naive_Bayes-pca-jaccard-30            MLP-pca-jaccard-10  0.001038\n",
       "187             MLP-pca-jaccard-5            MLP-pca-jaccard-10  0.000909"
      ]
     },
     "execution_count": 12,
     "metadata": {},
     "output_type": "execute_result"
    }
   ],
   "source": [
    "pvals[pvals.p_value<0.01]"
   ]
  },
  {
   "cell_type": "markdown",
   "metadata": {},
   "source": [
    "check that group 1 and group 3 are radically different"
   ]
  },
  {
   "cell_type": "code",
   "execution_count": 13,
   "metadata": {},
   "outputs": [],
   "source": [
    "files_g3 = [data_file('LDA', 'pca', 'hamming', c) for c in ['2', '3', '5', '10', '30']]"
   ]
  },
  {
   "cell_type": "code",
   "execution_count": 14,
   "metadata": {},
   "outputs": [
    {
     "data": {
      "text/plain": [
       "1.0"
      ]
     },
     "execution_count": 14,
     "metadata": {},
     "output_type": "execute_result"
    }
   ],
   "source": [
    "pvals = pd.DataFrame([(f1[26:-5], f2[26:-5], von_mises_test(get_sample(f1), get_sample(f2)))\n",
    "                      for f1 in files_g1 for f2 in files_g3],\n",
    "                    columns=['sample_1', 'sample_2', 'p_value'])\n",
    "len(pvals[pvals.p_value < 0.05]) / len(pvals)"
   ]
  },
  {
   "cell_type": "markdown",
   "metadata": {},
   "source": [
    "check that group 2 and group 3 are radically different"
   ]
  },
  {
   "cell_type": "code",
   "execution_count": 15,
   "metadata": {},
   "outputs": [],
   "source": [
    "files_g2 = [data_file('Decision_tree', 'pca', 'jaccard', c) for c in ['2', '3', '5', '10', '30']] + \\\n",
    "           [data_file(a, 'pca', 'levenshtein', c)\n",
    "            for a in ['LDA', 'Random_forest', 'MLP', 'Naive_Bayes', 'Decision_tree']\n",
    "            for c in ['2', '3', '5', '10', '30']] + \\\n",
    "           [data_file(a, 'pca', 'hamming', c)\n",
    "            for a in ['Random_forest', 'MLP', 'Naive_Bayes', 'Decision_tree']\n",
    "            for c in ['2', '3', '5', '10', '30']]"
   ]
  },
  {
   "cell_type": "code",
   "execution_count": 16,
   "metadata": {},
   "outputs": [
    {
     "data": {
      "text/plain": [
       "1.0"
      ]
     },
     "execution_count": 16,
     "metadata": {},
     "output_type": "execute_result"
    }
   ],
   "source": [
    "pvals = pd.DataFrame([(f1[26:-5], f2[26:-5], von_mises_test(get_sample(f1), get_sample(f2)))\n",
    "                      for f1 in files_g2 for f2 in files_g3],\n",
    "                    columns=['sample_1', 'sample_2', 'p_value'])\n",
    "len(pvals[pvals.p_value < 0.05]) / len(pvals)"
   ]
  },
  {
   "cell_type": "markdown",
   "metadata": {},
   "source": [
    "check that group 1 and group 2 are radically different"
   ]
  },
  {
   "cell_type": "code",
   "execution_count": 17,
   "metadata": {},
   "outputs": [
    {
     "data": {
      "text/plain": [
       "1.0"
      ]
     },
     "execution_count": 17,
     "metadata": {},
     "output_type": "execute_result"
    }
   ],
   "source": [
    "pvals = pd.DataFrame([(f1[26:-5], f2[26:-5], von_mises_test(get_sample(f1), get_sample(f2)))\n",
    "                      for f1 in files_g1 for f2 in files_g2],\n",
    "                    columns=['sample_1', 'sample_2', 'p_value'])\n",
    "len(pvals[pvals.p_value < 0.05]) / len(pvals)"
   ]
  },
  {
   "cell_type": "markdown",
   "metadata": {},
   "source": [
    "check that group 1 and group 4 are radically different"
   ]
  },
  {
   "cell_type": "code",
   "execution_count": 18,
   "metadata": {},
   "outputs": [],
   "source": [
    "files_g4 = [data_file(a, 'tsne', m, c)\n",
    "            for a in ['LDA', 'Random_forest', 'MLP', 'Naive_Bayes', 'Decision_tree']\n",
    "            for m in ['jaccard', 'levenshtein', 'hamming']\n",
    "            for c in ['2', '3', '5', '10', '30']]"
   ]
  },
  {
   "cell_type": "code",
   "execution_count": 19,
   "metadata": {},
   "outputs": [
    {
     "data": {
      "text/plain": [
       "1.0"
      ]
     },
     "execution_count": 19,
     "metadata": {},
     "output_type": "execute_result"
    }
   ],
   "source": [
    "pvals = pd.DataFrame([(f1[26:-5], f2[26:-5], von_mises_test(get_sample(f1), get_sample(f2)))\n",
    "                      for f1 in files_g1 for f2 in files_g4],\n",
    "                    columns=['sample_1', 'sample_2', 'p_value'])\n",
    "len(pvals[pvals.p_value < 0.05]) / len(pvals)"
   ]
  },
  {
   "cell_type": "code",
   "execution_count": null,
   "metadata": {},
   "outputs": [],
   "source": []
  },
  {
   "cell_type": "code",
   "execution_count": null,
   "metadata": {},
   "outputs": [],
   "source": []
  }
 ],
 "metadata": {
  "kernelspec": {
   "display_name": "Python 3",
   "language": "python",
   "name": "python3"
  },
  "language_info": {
   "codemirror_mode": {
    "name": "ipython",
    "version": 3
   },
   "file_extension": ".py",
   "mimetype": "text/x-python",
   "name": "python",
   "nbconvert_exporter": "python",
   "pygments_lexer": "ipython3",
   "version": "3.7.3"
  },
  "latex_envs": {
   "LaTeX_envs_menu_present": true,
   "autoclose": true,
   "autocomplete": true,
   "bibliofile": "biblio.bib",
   "cite_by": "apalike",
   "current_citInitial": 1,
   "eqLabelWithNumbers": true,
   "eqNumInitial": 1,
   "hotkeys": {
    "equation": "Ctrl-E",
    "itemize": "Ctrl-I"
   },
   "labels_anchors": false,
   "latex_user_defs": false,
   "report_style_numbering": true,
   "user_envs_cfg": false
  }
 },
 "nbformat": 4,
 "nbformat_minor": 2
}
